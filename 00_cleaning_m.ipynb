{
 "cells": [
  {
   "cell_type": "markdown",
   "id": "abandoned-tournament",
   "metadata": {},
   "source": [
    "# Data Cleaning (Mourad)\n",
    "## Credit Card Customers Churn"
   ]
  },
  {
   "cell_type": "markdown",
   "id": "consecutive-alaska",
   "metadata": {
    "execution": {
     "iopub.execute_input": "2021-02-27T01:58:35.548745Z",
     "iopub.status.busy": "2021-02-27T01:58:35.548519Z",
     "iopub.status.idle": "2021-02-27T01:58:35.551380Z",
     "shell.execute_reply": "2021-02-27T01:58:35.550682Z",
     "shell.execute_reply.started": "2021-02-27T01:58:35.548721Z"
    }
   },
   "source": [
    "Author: [Mourad Askar](maskar2@depaul.edu)  \n",
    "Created: _7-FEB-2021_"
   ]
  },
  {
   "cell_type": "markdown",
   "id": "crude-remark",
   "metadata": {},
   "source": [
    "# The Dataset\n",
    "\n",
    "**Source**  \n",
    "The dataset was downloaded from kaggle:  \n",
    "https://www.kaggle.com/sakshigoyal7/credit-card-customers\n",
    "\n",
    "\n",
    "**Dataset statistics:**    \n",
    "Number of observations\t10,127  \n",
    "Number of variables\t\t20  (After dropping CLIENTNUM index)\n",
    "\n",
    "Missing cells\t\t0  \n",
    "Missing cells (%)\t0.0%  \n",
    "\n",
    "Duplicate rows\t0  \n",
    "Duplicate rows (%)\t0.0%  \n",
    "\n",
    "**Variable types**  \n",
    "Numeric:\t15  \n",
    "Categorical:\t6  \n",
    "\n",
    "**Target Variable**  \n",
    "Attrition_Flag\n",
    "\n",
    "Attritted customers proportion is 16%"
   ]
  },
  {
   "cell_type": "markdown",
   "id": "organic-falls",
   "metadata": {},
   "source": [
    "\n",
    "|Variable|Type|Description|\n",
    "|-|-|-|\n",
    "|Clientnum|\tNum|\tClient number. Unique identifier for the customer holding the account|\n",
    "|Attrition_Flag|\tChar|\tInternal event (customer activity) variable - if the account is closed then 1 else 0|\n",
    "|Customer_Age|\tNum|\tDemographic variable - Customer's Age in Years|\n",
    "|Gender|\tChar|\tDemographic variable - M=Male, F=Female|\n",
    "|Dependent_count|\tNum|\tDemographic variable - Number of dependents|\n",
    "|Education_Level|\tChar|\tDemographic variable - Educational Qualification of the account holder (example: high school, college graduate, etc.)|\n",
    "|Marital_Status|\tChar|\tDemographic variable - Married, Single, Unknown|\n",
    "|Income_Category|\tChar|\tDemographic variable - Annual Income Category of the account holder (< $40K, $40K - 60K, $60K - $80K, $80K-$120K, > $120K, Unknown)|\n",
    "|Card_Category|\tChar|\tProduct Variable - Type of Card (Blue, Silver, Gold, Platinum)|\n",
    "|Months_on_book|\tNum|\tMonths on book (Time of Relationship)|\n",
    "|Total_Relationship_Count|\tNum|\tTotal no. of products held by the customer|\n",
    "|Months_Inactive_12_mon|\tNum|\tNo. of months inactive in the last 12 months|\n",
    "|Contacts_Count_12_mon|\tNum|\tNo. of Contacts in the last 12 months|\n",
    "|Credit_Limit|\tNum|\tCredit Limit on the Credit Card|\n",
    "|Total_Revolving_Bal|\tNum|\tTotal Revolving Balance on the Credit Card|\n",
    "|Avg_Open_To_Buy|\tNum|\tOpen to Buy Credit Line (Average of last 12 months)|\n",
    "|Total_Amt_Chng_Q4_Q1|\tNum|\tChange in Transaction Amount (Q4 over Q1)| \n",
    "|Total_Trans_Amt|\tNum|\tTotal Transaction Amount (Last 12 months)|\n",
    "|Total_Trans_Ct|\tNum|\tTotal Transaction Count (Last 12 months)|\n",
    "|Total_Ct_Chng_Q4_Q1|\tNum|\tChange in Transaction Count (Q4 over Q1)|\n",
    "|Avg_Utilization_Ratio|\tNum|\tAverage Card Utilization Ratio|\n"
   ]
  },
  {
   "cell_type": "code",
   "execution_count": 1,
   "id": "southwest-vision",
   "metadata": {
    "execution": {
     "iopub.execute_input": "2021-03-16T23:59:31.527522Z",
     "iopub.status.busy": "2021-03-16T23:59:31.527292Z",
     "iopub.status.idle": "2021-03-16T23:59:32.223986Z",
     "shell.execute_reply": "2021-03-16T23:59:32.223021Z",
     "shell.execute_reply.started": "2021-03-16T23:59:31.527475Z"
    },
    "tags": []
   },
   "outputs": [
    {
     "name": "stdout",
     "output_type": "stream",
     "text": [
      "python 3.9.2\n",
      "numpy 1.20.1\n",
      "pandas 1.1.4\n",
      "klib 0.1.5\n",
      "sklearn 0.24.1\n",
      "sweetviz 2.0.9\n"
     ]
    }
   ],
   "source": [
    "import pandas as pd\n",
    "import numpy as np\n",
    "import klib\n",
    "import pandas_profiling as pp\n",
    "import sweetviz\n",
    "import sklearn\n",
    "from sklearn.preprocessing import OrdinalEncoder\n",
    "from sklearn.model_selection import train_test_split\n",
    "from platform import python_version\n",
    "\n",
    "pd.set_option('max_columns',200)\n",
    "pd.set_option('display.precision',2)\n",
    "\n",
    "print('python',python_version())\n",
    "print(np.__name__, np.__version__)\n",
    "print(pd.__name__, pd.__version__)\n",
    "print(klib.__name__, klib.__version__)\n",
    "#print(pp.__name__, pp.__version__)\n",
    "print(sklearn.__name__, sklearn.__version__)\n",
    "print(sweetviz.__name__, sweetviz.__version__)"
   ]
  },
  {
   "cell_type": "markdown",
   "id": "correct-cruise",
   "metadata": {},
   "source": [
    "The source of the daset"
   ]
  },
  {
   "cell_type": "markdown",
   "id": "advanced-somerset",
   "metadata": {},
   "source": [
    "## Read data and understand structure"
   ]
  },
  {
   "cell_type": "code",
   "execution_count": 2,
   "id": "mechanical-thong",
   "metadata": {
    "execution": {
     "iopub.execute_input": "2021-03-16T23:59:32.226566Z",
     "iopub.status.busy": "2021-03-16T23:59:32.226075Z",
     "iopub.status.idle": "2021-03-16T23:59:32.274480Z",
     "shell.execute_reply": "2021-03-16T23:59:32.273786Z",
     "shell.execute_reply.started": "2021-03-16T23:59:32.226534Z"
    },
    "tags": []
   },
   "outputs": [
    {
     "name": "stdout",
     "output_type": "stream",
     "text": [
      "<class 'pandas.core.frame.DataFrame'>\n",
      "RangeIndex: 10127 entries, 0 to 10126\n",
      "Data columns (total 20 columns):\n",
      " #   Column                    Non-Null Count  Dtype  \n",
      "---  ------                    --------------  -----  \n",
      " 0   Attrition_Flag            10127 non-null  object \n",
      " 1   Customer_Age              10127 non-null  int64  \n",
      " 2   Gender                    10127 non-null  object \n",
      " 3   Dependent_count           10127 non-null  int64  \n",
      " 4   Education_Level           10127 non-null  object \n",
      " 5   Marital_Status            10127 non-null  object \n",
      " 6   Income_Category           10127 non-null  object \n",
      " 7   Card_Category             10127 non-null  object \n",
      " 8   Months_on_book            10127 non-null  int64  \n",
      " 9   Total_Relationship_Count  10127 non-null  int64  \n",
      " 10  Months_Inactive_12_mon    10127 non-null  int64  \n",
      " 11  Contacts_Count_12_mon     10127 non-null  int64  \n",
      " 12  Credit_Limit              10127 non-null  float64\n",
      " 13  Total_Revolving_Bal       10127 non-null  int64  \n",
      " 14  Avg_Open_To_Buy           10127 non-null  float64\n",
      " 15  Total_Amt_Chng_Q4_Q1      10127 non-null  float64\n",
      " 16  Total_Trans_Amt           10127 non-null  int64  \n",
      " 17  Total_Trans_Ct            10127 non-null  int64  \n",
      " 18  Total_Ct_Chng_Q4_Q1       10127 non-null  float64\n",
      " 19  Avg_Utilization_Ratio     10127 non-null  float64\n",
      "dtypes: float64(5), int64(9), object(6)\n",
      "memory usage: 1.5+ MB\n",
      "None\n"
     ]
    },
    {
     "data": {
      "text/html": [
       "<div>\n",
       "<style scoped>\n",
       "    .dataframe tbody tr th:only-of-type {\n",
       "        vertical-align: middle;\n",
       "    }\n",
       "\n",
       "    .dataframe tbody tr th {\n",
       "        vertical-align: top;\n",
       "    }\n",
       "\n",
       "    .dataframe thead th {\n",
       "        text-align: right;\n",
       "    }\n",
       "</style>\n",
       "<table border=\"1\" class=\"dataframe\">\n",
       "  <thead>\n",
       "    <tr style=\"text-align: right;\">\n",
       "      <th></th>\n",
       "      <th>2038</th>\n",
       "      <th>4139</th>\n",
       "      <th>1675</th>\n",
       "      <th>719</th>\n",
       "      <th>3016</th>\n",
       "    </tr>\n",
       "  </thead>\n",
       "  <tbody>\n",
       "    <tr>\n",
       "      <th>Attrition_Flag</th>\n",
       "      <td>Existing Customer</td>\n",
       "      <td>Existing Customer</td>\n",
       "      <td>Existing Customer</td>\n",
       "      <td>Existing Customer</td>\n",
       "      <td>Attrited Customer</td>\n",
       "    </tr>\n",
       "    <tr>\n",
       "      <th>Customer_Age</th>\n",
       "      <td>52</td>\n",
       "      <td>50</td>\n",
       "      <td>56</td>\n",
       "      <td>39</td>\n",
       "      <td>51</td>\n",
       "    </tr>\n",
       "    <tr>\n",
       "      <th>Gender</th>\n",
       "      <td>F</td>\n",
       "      <td>F</td>\n",
       "      <td>M</td>\n",
       "      <td>M</td>\n",
       "      <td>F</td>\n",
       "    </tr>\n",
       "    <tr>\n",
       "      <th>Dependent_count</th>\n",
       "      <td>3</td>\n",
       "      <td>3</td>\n",
       "      <td>1</td>\n",
       "      <td>2</td>\n",
       "      <td>1</td>\n",
       "    </tr>\n",
       "    <tr>\n",
       "      <th>Education_Level</th>\n",
       "      <td>Doctorate</td>\n",
       "      <td>Doctorate</td>\n",
       "      <td>College</td>\n",
       "      <td>Uneducated</td>\n",
       "      <td>Graduate</td>\n",
       "    </tr>\n",
       "    <tr>\n",
       "      <th>Marital_Status</th>\n",
       "      <td>Single</td>\n",
       "      <td>Single</td>\n",
       "      <td>Married</td>\n",
       "      <td>Single</td>\n",
       "      <td>Single</td>\n",
       "    </tr>\n",
       "    <tr>\n",
       "      <th>Income_Category</th>\n",
       "      <td>Unknown</td>\n",
       "      <td>Less than $40K</td>\n",
       "      <td>$80K - $120K</td>\n",
       "      <td>$40K - $60K</td>\n",
       "      <td>Less than $40K</td>\n",
       "    </tr>\n",
       "    <tr>\n",
       "      <th>Card_Category</th>\n",
       "      <td>Blue</td>\n",
       "      <td>Blue</td>\n",
       "      <td>Blue</td>\n",
       "      <td>Blue</td>\n",
       "      <td>Blue</td>\n",
       "    </tr>\n",
       "    <tr>\n",
       "      <th>Months_on_book</th>\n",
       "      <td>36</td>\n",
       "      <td>39</td>\n",
       "      <td>45</td>\n",
       "      <td>32</td>\n",
       "      <td>37</td>\n",
       "    </tr>\n",
       "    <tr>\n",
       "      <th>Total_Relationship_Count</th>\n",
       "      <td>3</td>\n",
       "      <td>6</td>\n",
       "      <td>5</td>\n",
       "      <td>6</td>\n",
       "      <td>1</td>\n",
       "    </tr>\n",
       "    <tr>\n",
       "      <th>Months_Inactive_12_mon</th>\n",
       "      <td>2</td>\n",
       "      <td>1</td>\n",
       "      <td>1</td>\n",
       "      <td>3</td>\n",
       "      <td>3</td>\n",
       "    </tr>\n",
       "    <tr>\n",
       "      <th>Contacts_Count_12_mon</th>\n",
       "      <td>1</td>\n",
       "      <td>3</td>\n",
       "      <td>3</td>\n",
       "      <td>2</td>\n",
       "      <td>4</td>\n",
       "    </tr>\n",
       "    <tr>\n",
       "      <th>Credit_Limit</th>\n",
       "      <td>2.5e+04</td>\n",
       "      <td>1e+04</td>\n",
       "      <td>4.1e+03</td>\n",
       "      <td>7.7e+03</td>\n",
       "      <td>7.2e+03</td>\n",
       "    </tr>\n",
       "    <tr>\n",
       "      <th>Total_Revolving_Bal</th>\n",
       "      <td>1085</td>\n",
       "      <td>0</td>\n",
       "      <td>1468</td>\n",
       "      <td>1902</td>\n",
       "      <td>0</td>\n",
       "    </tr>\n",
       "    <tr>\n",
       "      <th>Avg_Open_To_Buy</th>\n",
       "      <td>2.4e+04</td>\n",
       "      <td>1e+04</td>\n",
       "      <td>2.7e+03</td>\n",
       "      <td>5.8e+03</td>\n",
       "      <td>7.2e+03</td>\n",
       "    </tr>\n",
       "    <tr>\n",
       "      <th>Total_Amt_Chng_Q4_Q1</th>\n",
       "      <td>1</td>\n",
       "      <td>0.97</td>\n",
       "      <td>0.58</td>\n",
       "      <td>1.2</td>\n",
       "      <td>0.45</td>\n",
       "    </tr>\n",
       "    <tr>\n",
       "      <th>Total_Trans_Amt</th>\n",
       "      <td>4776</td>\n",
       "      <td>4401</td>\n",
       "      <td>1238</td>\n",
       "      <td>1241</td>\n",
       "      <td>1375</td>\n",
       "    </tr>\n",
       "    <tr>\n",
       "      <th>Total_Trans_Ct</th>\n",
       "      <td>63</td>\n",
       "      <td>60</td>\n",
       "      <td>36</td>\n",
       "      <td>22</td>\n",
       "      <td>33</td>\n",
       "    </tr>\n",
       "    <tr>\n",
       "      <th>Total_Ct_Chng_Q4_Q1</th>\n",
       "      <td>0.57</td>\n",
       "      <td>1.1</td>\n",
       "      <td>0.5</td>\n",
       "      <td>1</td>\n",
       "      <td>0.65</td>\n",
       "    </tr>\n",
       "    <tr>\n",
       "      <th>Avg_Utilization_Ratio</th>\n",
       "      <td>0.044</td>\n",
       "      <td>0</td>\n",
       "      <td>0.35</td>\n",
       "      <td>0.25</td>\n",
       "      <td>0</td>\n",
       "    </tr>\n",
       "  </tbody>\n",
       "</table>\n",
       "</div>"
      ],
      "text/plain": [
       "                                       2038               4139  \\\n",
       "Attrition_Flag            Existing Customer  Existing Customer   \n",
       "Customer_Age                             52                 50   \n",
       "Gender                                    F                  F   \n",
       "Dependent_count                           3                  3   \n",
       "Education_Level                   Doctorate          Doctorate   \n",
       "Marital_Status                       Single             Single   \n",
       "Income_Category                     Unknown     Less than $40K   \n",
       "Card_Category                          Blue               Blue   \n",
       "Months_on_book                           36                 39   \n",
       "Total_Relationship_Count                  3                  6   \n",
       "Months_Inactive_12_mon                    2                  1   \n",
       "Contacts_Count_12_mon                     1                  3   \n",
       "Credit_Limit                        2.5e+04              1e+04   \n",
       "Total_Revolving_Bal                    1085                  0   \n",
       "Avg_Open_To_Buy                     2.4e+04              1e+04   \n",
       "Total_Amt_Chng_Q4_Q1                      1               0.97   \n",
       "Total_Trans_Amt                        4776               4401   \n",
       "Total_Trans_Ct                           63                 60   \n",
       "Total_Ct_Chng_Q4_Q1                    0.57                1.1   \n",
       "Avg_Utilization_Ratio                 0.044                  0   \n",
       "\n",
       "                                       1675               719   \\\n",
       "Attrition_Flag            Existing Customer  Existing Customer   \n",
       "Customer_Age                             56                 39   \n",
       "Gender                                    M                  M   \n",
       "Dependent_count                           1                  2   \n",
       "Education_Level                     College         Uneducated   \n",
       "Marital_Status                      Married             Single   \n",
       "Income_Category                $80K - $120K        $40K - $60K   \n",
       "Card_Category                          Blue               Blue   \n",
       "Months_on_book                           45                 32   \n",
       "Total_Relationship_Count                  5                  6   \n",
       "Months_Inactive_12_mon                    1                  3   \n",
       "Contacts_Count_12_mon                     3                  2   \n",
       "Credit_Limit                        4.1e+03            7.7e+03   \n",
       "Total_Revolving_Bal                    1468               1902   \n",
       "Avg_Open_To_Buy                     2.7e+03            5.8e+03   \n",
       "Total_Amt_Chng_Q4_Q1                   0.58                1.2   \n",
       "Total_Trans_Amt                        1238               1241   \n",
       "Total_Trans_Ct                           36                 22   \n",
       "Total_Ct_Chng_Q4_Q1                     0.5                  1   \n",
       "Avg_Utilization_Ratio                  0.35               0.25   \n",
       "\n",
       "                                       3016  \n",
       "Attrition_Flag            Attrited Customer  \n",
       "Customer_Age                             51  \n",
       "Gender                                    F  \n",
       "Dependent_count                           1  \n",
       "Education_Level                    Graduate  \n",
       "Marital_Status                       Single  \n",
       "Income_Category              Less than $40K  \n",
       "Card_Category                          Blue  \n",
       "Months_on_book                           37  \n",
       "Total_Relationship_Count                  1  \n",
       "Months_Inactive_12_mon                    3  \n",
       "Contacts_Count_12_mon                     4  \n",
       "Credit_Limit                        7.2e+03  \n",
       "Total_Revolving_Bal                       0  \n",
       "Avg_Open_To_Buy                     7.2e+03  \n",
       "Total_Amt_Chng_Q4_Q1                   0.45  \n",
       "Total_Trans_Amt                        1375  \n",
       "Total_Trans_Ct                           33  \n",
       "Total_Ct_Chng_Q4_Q1                    0.65  \n",
       "Avg_Utilization_Ratio                     0  "
      ]
     },
     "metadata": {},
     "output_type": "display_data"
    }
   ],
   "source": [
    "# Read data from source CSV and drop the last 2 irrelevant columns\n",
    "df = pd.read_csv('./data/BankChurners.csv', index_col=0).iloc[:, :-2]\n",
    "\n",
    "# Reset index IDs and drop old index values\n",
    "df.reset_index(drop=True, inplace=True)\n",
    "\n",
    "print(df.info())\n",
    "display(df.sample(5).T)  # Transpose just for easier viewing"
   ]
  },
  {
   "cell_type": "markdown",
   "id": "opening-creek",
   "metadata": {},
   "source": [
    "## Clean data and feature names"
   ]
  },
  {
   "cell_type": "code",
   "execution_count": 3,
   "id": "approved-norman",
   "metadata": {
    "execution": {
     "iopub.execute_input": "2021-03-16T23:59:32.275494Z",
     "iopub.status.busy": "2021-03-16T23:59:32.275301Z",
     "iopub.status.idle": "2021-03-16T23:59:32.288625Z",
     "shell.execute_reply": "2021-03-16T23:59:32.288076Z",
     "shell.execute_reply.started": "2021-03-16T23:59:32.275474Z"
    }
   },
   "outputs": [
    {
     "name": "stdout",
     "output_type": "stream",
     "text": [
      "No missing values found in the dataset.\n"
     ]
    }
   ],
   "source": [
    "klib.missingval_plot(df)"
   ]
  },
  {
   "cell_type": "code",
   "execution_count": 4,
   "id": "liked-diabetes",
   "metadata": {
    "execution": {
     "iopub.execute_input": "2021-03-16T23:59:32.289648Z",
     "iopub.status.busy": "2021-03-16T23:59:32.289464Z",
     "iopub.status.idle": "2021-03-16T23:59:32.383637Z",
     "shell.execute_reply": "2021-03-16T23:59:32.383023Z",
     "shell.execute_reply.started": "2021-03-16T23:59:32.289628Z"
    },
    "tags": []
   },
   "outputs": [
    {
     "name": "stdout",
     "output_type": "stream",
     "text": [
      "Shape of cleaned data: (10127, 20)Remaining NAs: 0\n",
      "\n",
      "Changes:\n",
      "Dropped rows: 0\n",
      "     of which 0 duplicates. (Rows: [])\n",
      "Dropped columns: 0\n",
      "     of which 0 single valued.     Columns: []\n",
      "Dropped missing values: 0\n",
      "Reduced memory by at least: -0.39 MB (--25.16%)\n",
      "\n",
      "<class 'pandas.core.frame.DataFrame'>\n",
      "Int64Index: 10127 entries, 0 to 10126\n",
      "Data columns (total 20 columns):\n",
      " #   Column                    Non-Null Count  Dtype  \n",
      "---  ------                    --------------  -----  \n",
      " 0   attrition_flag            10127 non-null  object \n",
      " 1   customer_age              10127 non-null  int64  \n",
      " 2   gender                    10127 non-null  object \n",
      " 3   dependent_count           10127 non-null  int64  \n",
      " 4   education_level           10127 non-null  object \n",
      " 5   marital_status            10127 non-null  object \n",
      " 6   income_category           10127 non-null  object \n",
      " 7   card_category             10127 non-null  object \n",
      " 8   months_on_book            10127 non-null  int64  \n",
      " 9   total_relationship_count  10127 non-null  int64  \n",
      " 10  months_inactive_12_mon    10127 non-null  int64  \n",
      " 11  contacts_count_12_mon     10127 non-null  int64  \n",
      " 12  credit_limit              10127 non-null  float64\n",
      " 13  total_revolving_bal       10127 non-null  int64  \n",
      " 14  avg_open_to_buy           10127 non-null  float64\n",
      " 15  total_amt_chng_q4_q1      10127 non-null  float64\n",
      " 16  total_trans_amt           10127 non-null  int64  \n",
      " 17  total_trans_ct            10127 non-null  int64  \n",
      " 18  total_ct_chng_q4_q1       10127 non-null  float64\n",
      " 19  avg_utilization_ratio     10127 non-null  float64\n",
      "dtypes: float64(5), int64(9), object(6)\n",
      "memory usage: 1.9+ MB\n",
      "None\n"
     ]
    }
   ],
   "source": [
    "df_c = klib.data_cleaning(df, convert_dtypes=False)\n",
    "print(df_c.info())"
   ]
  },
  {
   "cell_type": "markdown",
   "id": "distant-panama",
   "metadata": {},
   "source": [
    "# Generate Exploratory Data Analysis Report"
   ]
  },
  {
   "cell_type": "markdown",
   "id": "perfect-stone",
   "metadata": {
    "execution": {
     "iopub.execute_input": "2021-02-27T03:20:41.020520Z",
     "iopub.status.busy": "2021-02-27T03:20:41.020300Z",
     "iopub.status.idle": "2021-02-27T03:20:41.023689Z",
     "shell.execute_reply": "2021-02-27T03:20:41.022887Z",
     "shell.execute_reply.started": "2021-02-27T03:20:41.020496Z"
    }
   },
   "source": [
    "> I comment out most of this section as not to re-generate the reports everytime  \n",
    "> Output can be found at **\"01_DSC478_EDA_PP.html\"** and **\"01_DSC478_EDA_sweetviz.html\"**"
   ]
  },
  {
   "cell_type": "markdown",
   "id": "perfect-meditation",
   "metadata": {},
   "source": [
    "#### Pandas Profiling Report\n",
    "> I use the suffix \"_new\" in the file name to prevent over-writing existing report"
   ]
  },
  {
   "cell_type": "code",
   "execution_count": 5,
   "id": "controlled-finding",
   "metadata": {
    "execution": {
     "iopub.execute_input": "2021-03-16T23:59:32.384891Z",
     "iopub.status.busy": "2021-03-16T23:59:32.384605Z",
     "iopub.status.idle": "2021-03-16T23:59:32.387113Z",
     "shell.execute_reply": "2021-03-16T23:59:32.386555Z",
     "shell.execute_reply.started": "2021-03-16T23:59:32.384871Z"
    },
    "tags": []
   },
   "outputs": [],
   "source": [
    "#pp_report = pp.ProfileReport(df_c, explorative=True, lazy=False)\n",
    "#pp_report.to_file('01_DSC478_EDA_PP_new.html')"
   ]
  },
  {
   "cell_type": "markdown",
   "id": "violent-damages",
   "metadata": {},
   "source": [
    "#### SweetViz Report\n",
    "> I use the suffix \"_new\" in the file name to prevent over-writing existing report"
   ]
  },
  {
   "cell_type": "code",
   "execution_count": 6,
   "id": "agreed-bulletin",
   "metadata": {
    "execution": {
     "iopub.execute_input": "2021-03-16T23:59:32.388334Z",
     "iopub.status.busy": "2021-03-16T23:59:32.388131Z",
     "iopub.status.idle": "2021-03-16T23:59:32.390645Z",
     "shell.execute_reply": "2021-03-16T23:59:32.390004Z",
     "shell.execute_reply.started": "2021-03-16T23:59:32.388314Z"
    },
    "tags": []
   },
   "outputs": [],
   "source": [
    "#a = pd.get_dummies(df_c, columns=['attrition_flag'])\n",
    "#b = klib.data_cleaning(a).drop(columns='attrition_flag_existing_customer')\n",
    "#sv = sweetviz.analyze(b, target_feat='attrition_flag_attrited_customer')\n",
    "#sv.show_html('01_DSC478_EDA_sweetviz_new.html', layout='vertical', open_browser=False)\n",
    "#sv.show_notebook()"
   ]
  },
  {
   "cell_type": "markdown",
   "id": "possible-rebate",
   "metadata": {},
   "source": [
    "# Datasets (1)"
   ]
  },
  {
   "cell_type": "markdown",
   "id": "guilty-hayes",
   "metadata": {},
   "source": [
    "# Fix the columns order "
   ]
  },
  {
   "cell_type": "code",
   "execution_count": 7,
   "id": "personalized-departure",
   "metadata": {
    "execution": {
     "iopub.execute_input": "2021-03-16T23:59:32.393833Z",
     "iopub.status.busy": "2021-03-16T23:59:32.393619Z",
     "iopub.status.idle": "2021-03-16T23:59:32.412143Z",
     "shell.execute_reply": "2021-03-16T23:59:32.411326Z",
     "shell.execute_reply.started": "2021-03-16T23:59:32.393813Z"
    },
    "tags": []
   },
   "outputs": [
    {
     "data": {
      "text/html": [
       "<div>\n",
       "<style scoped>\n",
       "    .dataframe tbody tr th:only-of-type {\n",
       "        vertical-align: middle;\n",
       "    }\n",
       "\n",
       "    .dataframe tbody tr th {\n",
       "        vertical-align: top;\n",
       "    }\n",
       "\n",
       "    .dataframe thead th {\n",
       "        text-align: right;\n",
       "    }\n",
       "</style>\n",
       "<table border=\"1\" class=\"dataframe\">\n",
       "  <thead>\n",
       "    <tr style=\"text-align: right;\">\n",
       "      <th></th>\n",
       "      <th>0</th>\n",
       "      <th>1</th>\n",
       "      <th>2</th>\n",
       "      <th>3</th>\n",
       "      <th>4</th>\n",
       "    </tr>\n",
       "  </thead>\n",
       "  <tbody>\n",
       "    <tr>\n",
       "      <th>customer_age</th>\n",
       "      <td>45</td>\n",
       "      <td>49</td>\n",
       "      <td>51</td>\n",
       "      <td>40</td>\n",
       "      <td>40</td>\n",
       "    </tr>\n",
       "    <tr>\n",
       "      <th>dependent_count</th>\n",
       "      <td>3</td>\n",
       "      <td>5</td>\n",
       "      <td>3</td>\n",
       "      <td>4</td>\n",
       "      <td>3</td>\n",
       "    </tr>\n",
       "    <tr>\n",
       "      <th>months_on_book</th>\n",
       "      <td>39</td>\n",
       "      <td>44</td>\n",
       "      <td>36</td>\n",
       "      <td>34</td>\n",
       "      <td>21</td>\n",
       "    </tr>\n",
       "    <tr>\n",
       "      <th>total_relationship_count</th>\n",
       "      <td>5</td>\n",
       "      <td>6</td>\n",
       "      <td>4</td>\n",
       "      <td>3</td>\n",
       "      <td>5</td>\n",
       "    </tr>\n",
       "    <tr>\n",
       "      <th>months_inactive_12_mon</th>\n",
       "      <td>1</td>\n",
       "      <td>1</td>\n",
       "      <td>1</td>\n",
       "      <td>4</td>\n",
       "      <td>1</td>\n",
       "    </tr>\n",
       "    <tr>\n",
       "      <th>contacts_count_12_mon</th>\n",
       "      <td>3</td>\n",
       "      <td>2</td>\n",
       "      <td>0</td>\n",
       "      <td>1</td>\n",
       "      <td>0</td>\n",
       "    </tr>\n",
       "    <tr>\n",
       "      <th>credit_limit</th>\n",
       "      <td>1.3e+04</td>\n",
       "      <td>8.3e+03</td>\n",
       "      <td>3.4e+03</td>\n",
       "      <td>3.3e+03</td>\n",
       "      <td>4.7e+03</td>\n",
       "    </tr>\n",
       "    <tr>\n",
       "      <th>total_revolving_bal</th>\n",
       "      <td>777</td>\n",
       "      <td>864</td>\n",
       "      <td>0</td>\n",
       "      <td>2517</td>\n",
       "      <td>0</td>\n",
       "    </tr>\n",
       "    <tr>\n",
       "      <th>avg_open_to_buy</th>\n",
       "      <td>1.2e+04</td>\n",
       "      <td>7.4e+03</td>\n",
       "      <td>3.4e+03</td>\n",
       "      <td>8e+02</td>\n",
       "      <td>4.7e+03</td>\n",
       "    </tr>\n",
       "    <tr>\n",
       "      <th>total_amt_chng_q4_q1</th>\n",
       "      <td>1.3</td>\n",
       "      <td>1.5</td>\n",
       "      <td>2.6</td>\n",
       "      <td>1.4</td>\n",
       "      <td>2.2</td>\n",
       "    </tr>\n",
       "    <tr>\n",
       "      <th>total_trans_amt</th>\n",
       "      <td>1144</td>\n",
       "      <td>1291</td>\n",
       "      <td>1887</td>\n",
       "      <td>1171</td>\n",
       "      <td>816</td>\n",
       "    </tr>\n",
       "    <tr>\n",
       "      <th>total_trans_ct</th>\n",
       "      <td>42</td>\n",
       "      <td>33</td>\n",
       "      <td>20</td>\n",
       "      <td>20</td>\n",
       "      <td>28</td>\n",
       "    </tr>\n",
       "    <tr>\n",
       "      <th>total_ct_chng_q4_q1</th>\n",
       "      <td>1.6</td>\n",
       "      <td>3.7</td>\n",
       "      <td>2.3</td>\n",
       "      <td>2.3</td>\n",
       "      <td>2.5</td>\n",
       "    </tr>\n",
       "    <tr>\n",
       "      <th>avg_utilization_ratio</th>\n",
       "      <td>0.061</td>\n",
       "      <td>0.1</td>\n",
       "      <td>0</td>\n",
       "      <td>0.76</td>\n",
       "      <td>0</td>\n",
       "    </tr>\n",
       "    <tr>\n",
       "      <th>gender</th>\n",
       "      <td>M</td>\n",
       "      <td>F</td>\n",
       "      <td>M</td>\n",
       "      <td>F</td>\n",
       "      <td>M</td>\n",
       "    </tr>\n",
       "    <tr>\n",
       "      <th>education_level</th>\n",
       "      <td>High School</td>\n",
       "      <td>Graduate</td>\n",
       "      <td>Graduate</td>\n",
       "      <td>High School</td>\n",
       "      <td>Uneducated</td>\n",
       "    </tr>\n",
       "    <tr>\n",
       "      <th>marital_status</th>\n",
       "      <td>Married</td>\n",
       "      <td>Single</td>\n",
       "      <td>Married</td>\n",
       "      <td>Unknown</td>\n",
       "      <td>Married</td>\n",
       "    </tr>\n",
       "    <tr>\n",
       "      <th>income_category</th>\n",
       "      <td>$60K - $80K</td>\n",
       "      <td>Less than $40K</td>\n",
       "      <td>$80K - $120K</td>\n",
       "      <td>Less than $40K</td>\n",
       "      <td>$60K - $80K</td>\n",
       "    </tr>\n",
       "    <tr>\n",
       "      <th>card_category</th>\n",
       "      <td>Blue</td>\n",
       "      <td>Blue</td>\n",
       "      <td>Blue</td>\n",
       "      <td>Blue</td>\n",
       "      <td>Blue</td>\n",
       "    </tr>\n",
       "    <tr>\n",
       "      <th>attrited_customer</th>\n",
       "      <td>False</td>\n",
       "      <td>False</td>\n",
       "      <td>False</td>\n",
       "      <td>False</td>\n",
       "      <td>False</td>\n",
       "    </tr>\n",
       "  </tbody>\n",
       "</table>\n",
       "</div>"
      ],
      "text/plain": [
       "                                    0               1             2  \\\n",
       "customer_age                       45              49            51   \n",
       "dependent_count                     3               5             3   \n",
       "months_on_book                     39              44            36   \n",
       "total_relationship_count            5               6             4   \n",
       "months_inactive_12_mon              1               1             1   \n",
       "contacts_count_12_mon               3               2             0   \n",
       "credit_limit                  1.3e+04         8.3e+03       3.4e+03   \n",
       "total_revolving_bal               777             864             0   \n",
       "avg_open_to_buy               1.2e+04         7.4e+03       3.4e+03   \n",
       "total_amt_chng_q4_q1              1.3             1.5           2.6   \n",
       "total_trans_amt                  1144            1291          1887   \n",
       "total_trans_ct                     42              33            20   \n",
       "total_ct_chng_q4_q1               1.6             3.7           2.3   \n",
       "avg_utilization_ratio           0.061             0.1             0   \n",
       "gender                              M               F             M   \n",
       "education_level           High School        Graduate      Graduate   \n",
       "marital_status                Married          Single       Married   \n",
       "income_category           $60K - $80K  Less than $40K  $80K - $120K   \n",
       "card_category                    Blue            Blue          Blue   \n",
       "attrited_customer               False           False         False   \n",
       "\n",
       "                                       3            4  \n",
       "customer_age                          40           40  \n",
       "dependent_count                        4            3  \n",
       "months_on_book                        34           21  \n",
       "total_relationship_count               3            5  \n",
       "months_inactive_12_mon                 4            1  \n",
       "contacts_count_12_mon                  1            0  \n",
       "credit_limit                     3.3e+03      4.7e+03  \n",
       "total_revolving_bal                 2517            0  \n",
       "avg_open_to_buy                    8e+02      4.7e+03  \n",
       "total_amt_chng_q4_q1                 1.4          2.2  \n",
       "total_trans_amt                     1171          816  \n",
       "total_trans_ct                        20           28  \n",
       "total_ct_chng_q4_q1                  2.3          2.5  \n",
       "avg_utilization_ratio               0.76            0  \n",
       "gender                                 F            M  \n",
       "education_level              High School   Uneducated  \n",
       "marital_status                   Unknown      Married  \n",
       "income_category           Less than $40K  $60K - $80K  \n",
       "card_category                       Blue         Blue  \n",
       "attrited_customer                  False        False  "
      ]
     },
     "execution_count": 7,
     "metadata": {},
     "output_type": "execute_result"
    }
   ],
   "source": [
    "# Decide the new columns order\n",
    "new_col_order = ['customer_age', 'dependent_count', 'months_on_book',\n",
    "                'total_relationship_count', 'months_inactive_12_mon',\n",
    "                'contacts_count_12_mon', 'credit_limit', 'total_revolving_bal',\n",
    "                'avg_open_to_buy', 'total_amt_chng_q4_q1', 'total_trans_amt',\n",
    "                'total_trans_ct', 'total_ct_chng_q4_q1', 'avg_utilization_ratio',\n",
    "                'gender','education_level','marital_status','income_category',\n",
    "                'card_category','attrition_flag'\n",
    "               ]\n",
    "# Apply the new columns order\n",
    "df_c2 = df_c.reindex(columns=new_col_order)\n",
    "# Replace the values in attrition_flag with binary values, 1 for attrited_customer\n",
    "df_c2['attrition_flag'].replace({'Existing Customer':False, 'Attrited Customer':True}, inplace=True)\n",
    "# Rename column attrition_flag to attrited_customer\n",
    "df_c2.rename(columns={'attrition_flag':'attrited_customer'}, inplace=True)\n",
    "df_c2.head().T"
   ]
  },
  {
   "cell_type": "markdown",
   "id": "monthly-operation",
   "metadata": {},
   "source": [
    "# Write out clean file ready for next steps"
   ]
  },
  {
   "cell_type": "code",
   "execution_count": 8,
   "id": "oriental-baseline",
   "metadata": {
    "execution": {
     "iopub.execute_input": "2021-03-16T23:59:32.415426Z",
     "iopub.status.busy": "2021-03-16T23:59:32.415145Z",
     "iopub.status.idle": "2021-03-16T23:59:32.507382Z",
     "shell.execute_reply": "2021-03-16T23:59:32.506719Z",
     "shell.execute_reply.started": "2021-03-16T23:59:32.415396Z"
    },
    "tags": []
   },
   "outputs": [],
   "source": [
    "# Export cleaned data to CSV\n",
    "df_c2.to_csv('./data/bank_churners_clean.csv', index_label='index')"
   ]
  },
  {
   "cell_type": "code",
   "execution_count": 9,
   "id": "decreased-bridal",
   "metadata": {
    "execution": {
     "iopub.execute_input": "2021-03-16T23:59:32.508689Z",
     "iopub.status.busy": "2021-03-16T23:59:32.508346Z",
     "iopub.status.idle": "2021-03-16T23:59:32.534999Z",
     "shell.execute_reply": "2021-03-16T23:59:32.534396Z",
     "shell.execute_reply.started": "2021-03-16T23:59:32.508667Z"
    },
    "tags": []
   },
   "outputs": [
    {
     "name": "stdout",
     "output_type": "stream",
     "text": [
      "<class 'pandas.core.frame.DataFrame'>\n",
      "Int64Index: 10127 entries, 0 to 10126\n",
      "Data columns (total 20 columns):\n",
      " #   Column                    Non-Null Count  Dtype  \n",
      "---  ------                    --------------  -----  \n",
      " 0   customer_age              10127 non-null  int64  \n",
      " 1   dependent_count           10127 non-null  int64  \n",
      " 2   months_on_book            10127 non-null  int64  \n",
      " 3   total_relationship_count  10127 non-null  int64  \n",
      " 4   months_inactive_12_mon    10127 non-null  int64  \n",
      " 5   contacts_count_12_mon     10127 non-null  int64  \n",
      " 6   credit_limit              10127 non-null  float64\n",
      " 7   total_revolving_bal       10127 non-null  int64  \n",
      " 8   avg_open_to_buy           10127 non-null  float64\n",
      " 9   total_amt_chng_q4_q1      10127 non-null  float64\n",
      " 10  total_trans_amt           10127 non-null  int64  \n",
      " 11  total_trans_ct            10127 non-null  int64  \n",
      " 12  total_ct_chng_q4_q1       10127 non-null  float64\n",
      " 13  avg_utilization_ratio     10127 non-null  float64\n",
      " 14  gender                    10127 non-null  object \n",
      " 15  education_level           10127 non-null  object \n",
      " 16  marital_status            10127 non-null  object \n",
      " 17  income_category           10127 non-null  object \n",
      " 18  card_category             10127 non-null  object \n",
      " 19  attrited_customer         10127 non-null  bool   \n",
      "dtypes: bool(1), float64(5), int64(9), object(5)\n",
      "memory usage: 1.6+ MB\n"
     ]
    }
   ],
   "source": [
    "# Read clean data from CSV (To test exported data and as a reference code)\n",
    "df_csv = pd.read_csv('./data/bank_churners_clean.csv', index_col=0)\n",
    "df_csv.info()"
   ]
  },
  {
   "cell_type": "markdown",
   "id": "homeless-virgin",
   "metadata": {},
   "source": [
    "# Prepare Train / Test Datasets"
   ]
  },
  {
   "cell_type": "code",
   "execution_count": 10,
   "id": "violent-fifth",
   "metadata": {
    "execution": {
     "iopub.execute_input": "2021-03-16T23:59:32.536309Z",
     "iopub.status.busy": "2021-03-16T23:59:32.535975Z",
     "iopub.status.idle": "2021-03-16T23:59:32.539825Z",
     "shell.execute_reply": "2021-03-16T23:59:32.539235Z",
     "shell.execute_reply.started": "2021-03-16T23:59:32.536287Z"
    },
    "tags": []
   },
   "outputs": [
    {
     "data": {
      "text/plain": [
       "(10127, 20)"
      ]
     },
     "execution_count": 10,
     "metadata": {},
     "output_type": "execute_result"
    }
   ],
   "source": [
    "# Check dimensions of source data\n",
    "df_csv.shape"
   ]
  },
  {
   "cell_type": "code",
   "execution_count": 11,
   "id": "attended-publicity",
   "metadata": {
    "execution": {
     "iopub.execute_input": "2021-03-16T23:59:32.540969Z",
     "iopub.status.busy": "2021-03-16T23:59:32.540761Z",
     "iopub.status.idle": "2021-03-16T23:59:32.547720Z",
     "shell.execute_reply": "2021-03-16T23:59:32.547090Z",
     "shell.execute_reply.started": "2021-03-16T23:59:32.540949Z"
    },
    "tags": []
   },
   "outputs": [
    {
     "name": "stdout",
     "output_type": "stream",
     "text": [
      "X and y shapes:\n",
      "(10127, 19) (10127,) \n",
      "\n",
      "Target Ratio:\n",
      "False    0.84\n",
      "True     0.16\n",
      "Name: attrited_customer, dtype: float64 \n",
      "\n"
     ]
    }
   ],
   "source": [
    "# Split data in to Features X and Target y\n",
    "X = df_csv.iloc[:,:-1]\n",
    "y = df_csv.iloc[:,-1]\n",
    "print('X and y shapes:')\n",
    "print(X.shape,y.shape,'\\n')\n",
    "print('Target Ratio:')\n",
    "print(y.value_counts(normalize=True, dropna=False),'\\n')"
   ]
  },
  {
   "cell_type": "code",
   "execution_count": 12,
   "id": "prepared-blind",
   "metadata": {
    "execution": {
     "iopub.execute_input": "2021-03-16T23:59:32.549001Z",
     "iopub.status.busy": "2021-03-16T23:59:32.548721Z",
     "iopub.status.idle": "2021-03-16T23:59:32.558183Z",
     "shell.execute_reply": "2021-03-16T23:59:32.557491Z",
     "shell.execute_reply.started": "2021-03-16T23:59:32.548980Z"
    },
    "tags": []
   },
   "outputs": [
    {
     "data": {
      "text/plain": [
       "((8101, 19), (2026, 19), (8101,), (2026,))"
      ]
     },
     "execution_count": 12,
     "metadata": {},
     "output_type": "execute_result"
    }
   ],
   "source": [
    "# Split data into Train and Test\n",
    "# We stratify to make sure target representation is kept in the new datasets\n",
    "X_train, X_test, y_train, y_test = train_test_split(X, y,\n",
    "                                                    test_size=.2,\n",
    "                                                    stratify=y,\n",
    "                                                    random_state=2021)\n",
    "X_train.shape, X_test.shape, y_train.shape, y_test.shape"
   ]
  },
  {
   "cell_type": "code",
   "execution_count": 13,
   "id": "victorian-differential",
   "metadata": {
    "execution": {
     "iopub.execute_input": "2021-03-16T23:59:32.559555Z",
     "iopub.status.busy": "2021-03-16T23:59:32.559324Z",
     "iopub.status.idle": "2021-03-16T23:59:32.651351Z",
     "shell.execute_reply": "2021-03-16T23:59:32.650624Z",
     "shell.execute_reply.started": "2021-03-16T23:59:32.559534Z"
    },
    "tags": []
   },
   "outputs": [],
   "source": [
    "# Merge split Features and Target to export into single CSV for each of Train and Test\n",
    "X_train.merge(y_train, left_index=True, right_index=True)\\\n",
    "                                .to_csv('./data/bank_churners_train.csv', index_label='index')\n",
    "X_test.merge(y_test, left_index=True, right_index=True)\\\n",
    "                                .to_csv('./data/bank_churners_test.csv', index_label='index')\n",
    "\n",
    "# NOTE: I keep the original index order in the split Train / Test CSV\n",
    "#       for tracking back to source purposes"
   ]
  },
  {
   "cell_type": "markdown",
   "id": "nutritional-spank",
   "metadata": {},
   "source": [
    "> **NOTE:**\n",
    "> * The **Test dataset** is to be kept away until the last step for evaluating the Final Model.\n",
    "> * Both **Training and Validation** should be done on the **Train dataset**"
   ]
  },
  {
   "cell_type": "code",
   "execution_count": 14,
   "id": "historical-directive",
   "metadata": {
    "execution": {
     "iopub.execute_input": "2021-03-16T23:59:32.652549Z",
     "iopub.status.busy": "2021-03-16T23:59:32.652252Z",
     "iopub.status.idle": "2021-03-16T23:59:32.679788Z",
     "shell.execute_reply": "2021-03-16T23:59:32.679239Z",
     "shell.execute_reply.started": "2021-03-16T23:59:32.652526Z"
    },
    "tags": []
   },
   "outputs": [
    {
     "name": "stdout",
     "output_type": "stream",
     "text": [
      "X and y shapes:\n",
      "(8101, 19) (8101,) \n",
      "\n",
      "Target Ratio:\n",
      "False    0.84\n",
      "True     0.16\n",
      "Name: attrited_customer, dtype: float64 \n",
      "\n",
      "<class 'pandas.core.frame.DataFrame'>\n",
      "Int64Index: 8101 entries, 3066 to 1919\n",
      "Data columns (total 20 columns):\n",
      " #   Column                    Non-Null Count  Dtype  \n",
      "---  ------                    --------------  -----  \n",
      " 0   customer_age              8101 non-null   int64  \n",
      " 1   dependent_count           8101 non-null   int64  \n",
      " 2   months_on_book            8101 non-null   int64  \n",
      " 3   total_relationship_count  8101 non-null   int64  \n",
      " 4   months_inactive_12_mon    8101 non-null   int64  \n",
      " 5   contacts_count_12_mon     8101 non-null   int64  \n",
      " 6   credit_limit              8101 non-null   float64\n",
      " 7   total_revolving_bal       8101 non-null   int64  \n",
      " 8   avg_open_to_buy           8101 non-null   float64\n",
      " 9   total_amt_chng_q4_q1      8101 non-null   float64\n",
      " 10  total_trans_amt           8101 non-null   int64  \n",
      " 11  total_trans_ct            8101 non-null   int64  \n",
      " 12  total_ct_chng_q4_q1       8101 non-null   float64\n",
      " 13  avg_utilization_ratio     8101 non-null   float64\n",
      " 14  gender                    8101 non-null   object \n",
      " 15  education_level           8101 non-null   object \n",
      " 16  marital_status            8101 non-null   object \n",
      " 17  income_category           8101 non-null   object \n",
      " 18  card_category             8101 non-null   object \n",
      " 19  attrited_customer         8101 non-null   bool   \n",
      "dtypes: bool(1), float64(5), int64(9), object(5)\n",
      "memory usage: 1.2+ MB\n"
     ]
    }
   ],
   "source": [
    "# Read [Train] data from CSV (To test exported data and as a reference code)\n",
    "df_train = pd.read_csv('./data/bank_churners_train.csv', index_col=0)\n",
    "X_train = df_train.iloc[:,:-1]\n",
    "y_train = df_train.iloc[:,-1]\n",
    "print('X and y shapes:')\n",
    "print(X_train.shape,y_train.shape,'\\n')\n",
    "print('Target Ratio:')\n",
    "print(y_train.value_counts(normalize=True, dropna=False),'\\n')\n",
    "df_train.info()"
   ]
  },
  {
   "cell_type": "code",
   "execution_count": 15,
   "id": "subject-snowboard",
   "metadata": {
    "execution": {
     "iopub.execute_input": "2021-03-16T23:59:32.680969Z",
     "iopub.status.busy": "2021-03-16T23:59:32.680691Z",
     "iopub.status.idle": "2021-03-16T23:59:32.699190Z",
     "shell.execute_reply": "2021-03-16T23:59:32.698636Z",
     "shell.execute_reply.started": "2021-03-16T23:59:32.680948Z"
    },
    "tags": []
   },
   "outputs": [
    {
     "name": "stdout",
     "output_type": "stream",
     "text": [
      "X and y shapes:\n",
      "(2026, 19) (2026,) \n",
      "\n",
      "Target Ratio:\n",
      "False    0.84\n",
      "True     0.16\n",
      "Name: attrited_customer, dtype: float64 \n",
      "\n",
      "<class 'pandas.core.frame.DataFrame'>\n",
      "Int64Index: 2026 entries, 9987 to 4830\n",
      "Data columns (total 20 columns):\n",
      " #   Column                    Non-Null Count  Dtype  \n",
      "---  ------                    --------------  -----  \n",
      " 0   customer_age              2026 non-null   int64  \n",
      " 1   dependent_count           2026 non-null   int64  \n",
      " 2   months_on_book            2026 non-null   int64  \n",
      " 3   total_relationship_count  2026 non-null   int64  \n",
      " 4   months_inactive_12_mon    2026 non-null   int64  \n",
      " 5   contacts_count_12_mon     2026 non-null   int64  \n",
      " 6   credit_limit              2026 non-null   float64\n",
      " 7   total_revolving_bal       2026 non-null   int64  \n",
      " 8   avg_open_to_buy           2026 non-null   float64\n",
      " 9   total_amt_chng_q4_q1      2026 non-null   float64\n",
      " 10  total_trans_amt           2026 non-null   int64  \n",
      " 11  total_trans_ct            2026 non-null   int64  \n",
      " 12  total_ct_chng_q4_q1       2026 non-null   float64\n",
      " 13  avg_utilization_ratio     2026 non-null   float64\n",
      " 14  gender                    2026 non-null   object \n",
      " 15  education_level           2026 non-null   object \n",
      " 16  marital_status            2026 non-null   object \n",
      " 17  income_category           2026 non-null   object \n",
      " 18  card_category             2026 non-null   object \n",
      " 19  attrited_customer         2026 non-null   bool   \n",
      "dtypes: bool(1), float64(5), int64(9), object(5)\n",
      "memory usage: 318.5+ KB\n"
     ]
    }
   ],
   "source": [
    "# Read [Test] data from CSV (To test exported data and as a reference code)\n",
    "df_test = pd.read_csv('./data/bank_churners_test.csv', index_col=0)\n",
    "X_test = df_test.iloc[:,:-1]\n",
    "y_test = df_test.iloc[:,-1]\n",
    "print('X and y shapes:')\n",
    "print(X_test.shape,y_test.shape,'\\n')\n",
    "print('Target Ratio:')\n",
    "print(y_test.value_counts(normalize=True, dropna=False),'\\n')\n",
    "df_test.info()"
   ]
  },
  {
   "cell_type": "markdown",
   "id": "neither-italy",
   "metadata": {},
   "source": [
    "# Datasets (2)"
   ]
  },
  {
   "cell_type": "markdown",
   "id": "lined-engineer",
   "metadata": {},
   "source": [
    "# Create dummies for categorical features"
   ]
  },
  {
   "cell_type": "code",
   "execution_count": 16,
   "id": "broadband-gauge",
   "metadata": {
    "execution": {
     "iopub.execute_input": "2021-03-16T23:59:32.700399Z",
     "iopub.status.busy": "2021-03-16T23:59:32.700096Z",
     "iopub.status.idle": "2021-03-16T23:59:32.723612Z",
     "shell.execute_reply": "2021-03-16T23:59:32.722933Z",
     "shell.execute_reply.started": "2021-03-16T23:59:32.700376Z"
    },
    "tags": []
   },
   "outputs": [
    {
     "name": "stdout",
     "output_type": "stream",
     "text": [
      "<class 'pandas.core.frame.DataFrame'>\n",
      "Int64Index: 10127 entries, 0 to 10126\n",
      "Data columns (total 38 columns):\n",
      " #   Column                    Non-Null Count  Dtype  \n",
      "---  ------                    --------------  -----  \n",
      " 0   customer_age              10127 non-null  int64  \n",
      " 1   dependent_count           10127 non-null  int64  \n",
      " 2   months_on_book            10127 non-null  int64  \n",
      " 3   total_relationship_count  10127 non-null  int64  \n",
      " 4   months_inactive_12_mon    10127 non-null  int64  \n",
      " 5   contacts_count_12_mon     10127 non-null  int64  \n",
      " 6   credit_limit              10127 non-null  float64\n",
      " 7   total_revolving_bal       10127 non-null  int64  \n",
      " 8   avg_open_to_buy           10127 non-null  float64\n",
      " 9   total_amt_chng_q4_q1      10127 non-null  float64\n",
      " 10  total_trans_amt           10127 non-null  int64  \n",
      " 11  total_trans_ct            10127 non-null  int64  \n",
      " 12  total_ct_chng_q4_q1       10127 non-null  float64\n",
      " 13  avg_utilization_ratio     10127 non-null  float64\n",
      " 14  gender_F                  10127 non-null  uint8  \n",
      " 15  gender_M                  10127 non-null  uint8  \n",
      " 16  ed_lvl_College            10127 non-null  uint8  \n",
      " 17  ed_lvl_Doctorate          10127 non-null  uint8  \n",
      " 18  ed_lvl_Graduate           10127 non-null  uint8  \n",
      " 19  ed_lvl_High School        10127 non-null  uint8  \n",
      " 20  ed_lvl_Post-Graduate      10127 non-null  uint8  \n",
      " 21  ed_lvl_Uneducated         10127 non-null  uint8  \n",
      " 22  ed_lvl_Unknown            10127 non-null  uint8  \n",
      " 23  marital_Divorced          10127 non-null  uint8  \n",
      " 24  marital_Married           10127 non-null  uint8  \n",
      " 25  marital_Single            10127 non-null  uint8  \n",
      " 26  marital_Unknown           10127 non-null  uint8  \n",
      " 27  income_$120K +            10127 non-null  uint8  \n",
      " 28  income_$40K - $60K        10127 non-null  uint8  \n",
      " 29  income_$60K - $80K        10127 non-null  uint8  \n",
      " 30  income_$80K - $120K       10127 non-null  uint8  \n",
      " 31  income_Less than $40K     10127 non-null  uint8  \n",
      " 32  income_Unknown            10127 non-null  uint8  \n",
      " 33  card_Blue                 10127 non-null  uint8  \n",
      " 34  card_Gold                 10127 non-null  uint8  \n",
      " 35  card_Platinum             10127 non-null  uint8  \n",
      " 36  card_Silver               10127 non-null  uint8  \n",
      " 37  _Attrited Customer        10127 non-null  uint8  \n",
      "dtypes: float64(5), int64(9), uint8(24)\n",
      "memory usage: 1.7 MB\n"
     ]
    }
   ],
   "source": [
    "df_dummies = pd.get_dummies(df_c,\n",
    "                            columns=['gender','education_level','marital_status',\n",
    "                                     'income_category','card_category','attrition_flag'],\n",
    "                            prefix=['gender','ed_lvl','marital','income','card','']\n",
    "                           ).drop(columns='_Existing Customer')\n",
    "df_dummies.info()"
   ]
  },
  {
   "cell_type": "markdown",
   "id": "arbitrary-collector",
   "metadata": {},
   "source": [
    "# Clean feature names after introducing new dummy features"
   ]
  },
  {
   "cell_type": "code",
   "execution_count": 17,
   "id": "inside-tournament",
   "metadata": {
    "execution": {
     "iopub.execute_input": "2021-03-16T23:59:32.724852Z",
     "iopub.status.busy": "2021-03-16T23:59:32.724637Z",
     "iopub.status.idle": "2021-03-16T23:59:32.819001Z",
     "shell.execute_reply": "2021-03-16T23:59:32.818406Z",
     "shell.execute_reply.started": "2021-03-16T23:59:32.724831Z"
    },
    "tags": []
   },
   "outputs": [
    {
     "name": "stdout",
     "output_type": "stream",
     "text": [
      "Long column names detected (>25 characters). Consider renaming the following columns ['income_dollar_40k_dollar_60k', 'income_dollar_60k_dollar_80k', 'income_dollar_80k_dollar_120k', 'income_less_than_dollar_40k'].\n",
      "Shape of cleaned data: (10127, 38)Remaining NAs: 0\n",
      "\n",
      "Changes:\n",
      "Dropped rows: 0\n",
      "     of which 0 duplicates. (Rows: [])\n",
      "Dropped columns: 0\n",
      "     of which 0 single valued.     Columns: []\n",
      "Dropped missing values: 0\n",
      "Reduced memory by at least: 0.77 MB (-45.29%)\n",
      "\n",
      "<class 'pandas.core.frame.DataFrame'>\n",
      "Int64Index: 10127 entries, 0 to 10126\n",
      "Data columns (total 38 columns):\n",
      " #   Column                    Non-Null Count  Dtype  \n",
      "---  ------                    --------------  -----  \n",
      " 0   customer_age              10127 non-null  int8   \n",
      " 1   dependent_count           10127 non-null  int8   \n",
      " 2   months_on_book            10127 non-null  int8   \n",
      " 3   total_relationship_count  10127 non-null  int8   \n",
      " 4   months_inactive_12_mon    10127 non-null  int8   \n",
      " 5   contacts_count_12_mon     10127 non-null  int8   \n",
      " 6   credit_limit              10127 non-null  float32\n",
      " 7   total_revolving_bal       10127 non-null  int16  \n",
      " 8   avg_open_to_buy           10127 non-null  float32\n",
      " 9   total_amt_chng_q4_q1      10127 non-null  float32\n",
      " 10  total_trans_amt           10127 non-null  int16  \n",
      " 11  total_trans_ct            10127 non-null  int16  \n",
      " 12  total_ct_chng_q4_q1       10127 non-null  float32\n",
      " 13  avg_utilization_ratio     10127 non-null  float32\n",
      " 14  gender_f                  10127 non-null  uint8  \n",
      " 15  gender_m                  10127 non-null  uint8  \n",
      " 16  ed_lvl_college            10127 non-null  uint8  \n",
      " 17  ed_lvl_doctorate          10127 non-null  uint8  \n",
      " 18  ed_lvl_graduate           10127 non-null  uint8  \n",
      " 19  ed_lvl_high_school        10127 non-null  uint8  \n",
      " 20  ed_lvl_post_graduate      10127 non-null  uint8  \n",
      " 21  ed_lvl_uneducated         10127 non-null  uint8  \n",
      " 22  ed_lvl_unknown            10127 non-null  uint8  \n",
      " 23  marital_divorced          10127 non-null  uint8  \n",
      " 24  marital_married           10127 non-null  uint8  \n",
      " 25  marital_single            10127 non-null  uint8  \n",
      " 26  marital_unknown           10127 non-null  uint8  \n",
      " 27  income_120k_plus          10127 non-null  uint8  \n",
      " 28  income_40k_60k            10127 non-null  uint8  \n",
      " 29  income_60k_80k            10127 non-null  uint8  \n",
      " 30  income_80k_120k           10127 non-null  uint8  \n",
      " 31  income_less_than_40k      10127 non-null  uint8  \n",
      " 32  income_unknown            10127 non-null  uint8  \n",
      " 33  card_blue                 10127 non-null  uint8  \n",
      " 34  card_gold                 10127 non-null  uint8  \n",
      " 35  card_platinum             10127 non-null  uint8  \n",
      " 36  card_silver               10127 non-null  uint8  \n",
      " 37  attrited_customer         10127 non-null  uint8  \n",
      "dtypes: float32(5), int16(3), int8(6), uint8(24)\n",
      "memory usage: 952.9 KB\n"
     ]
    }
   ],
   "source": [
    "rm_dollar = lambda x: str(x).replace('dollar_','')\n",
    "\n",
    "df_dummies_c = klib.data_cleaning(df_dummies).rename(columns=rm_dollar)\n",
    "df_dummies_c.info()"
   ]
  },
  {
   "cell_type": "markdown",
   "id": "hazardous-chapel",
   "metadata": {},
   "source": [
    "# Write out clean file ready for next steps (with Dummies)"
   ]
  },
  {
   "cell_type": "code",
   "execution_count": 18,
   "id": "everyday-parts",
   "metadata": {
    "execution": {
     "iopub.execute_input": "2021-03-16T23:59:32.820189Z",
     "iopub.status.busy": "2021-03-16T23:59:32.819911Z",
     "iopub.status.idle": "2021-03-16T23:59:32.913799Z",
     "shell.execute_reply": "2021-03-16T23:59:32.913183Z",
     "shell.execute_reply.started": "2021-03-16T23:59:32.820167Z"
    },
    "tags": []
   },
   "outputs": [],
   "source": [
    "# Export cleaned data to CSV\n",
    "df_dummies_c.to_csv('./data/bank_churners_clean_dummies.csv', index_label='index')"
   ]
  },
  {
   "cell_type": "code",
   "execution_count": 19,
   "id": "nearby-calibration",
   "metadata": {
    "execution": {
     "iopub.execute_input": "2021-03-16T23:59:32.915205Z",
     "iopub.status.busy": "2021-03-16T23:59:32.914853Z",
     "iopub.status.idle": "2021-03-16T23:59:32.946682Z",
     "shell.execute_reply": "2021-03-16T23:59:32.946098Z",
     "shell.execute_reply.started": "2021-03-16T23:59:32.915185Z"
    },
    "tags": []
   },
   "outputs": [
    {
     "name": "stdout",
     "output_type": "stream",
     "text": [
      "<class 'pandas.core.frame.DataFrame'>\n",
      "Int64Index: 10127 entries, 0 to 10126\n",
      "Data columns (total 38 columns):\n",
      " #   Column                    Non-Null Count  Dtype  \n",
      "---  ------                    --------------  -----  \n",
      " 0   customer_age              10127 non-null  int64  \n",
      " 1   dependent_count           10127 non-null  int64  \n",
      " 2   months_on_book            10127 non-null  int64  \n",
      " 3   total_relationship_count  10127 non-null  int64  \n",
      " 4   months_inactive_12_mon    10127 non-null  int64  \n",
      " 5   contacts_count_12_mon     10127 non-null  int64  \n",
      " 6   credit_limit              10127 non-null  float64\n",
      " 7   total_revolving_bal       10127 non-null  int64  \n",
      " 8   avg_open_to_buy           10127 non-null  float64\n",
      " 9   total_amt_chng_q4_q1      10127 non-null  float64\n",
      " 10  total_trans_amt           10127 non-null  int64  \n",
      " 11  total_trans_ct            10127 non-null  int64  \n",
      " 12  total_ct_chng_q4_q1       10127 non-null  float64\n",
      " 13  avg_utilization_ratio     10127 non-null  float64\n",
      " 14  gender_f                  10127 non-null  int64  \n",
      " 15  gender_m                  10127 non-null  int64  \n",
      " 16  ed_lvl_college            10127 non-null  int64  \n",
      " 17  ed_lvl_doctorate          10127 non-null  int64  \n",
      " 18  ed_lvl_graduate           10127 non-null  int64  \n",
      " 19  ed_lvl_high_school        10127 non-null  int64  \n",
      " 20  ed_lvl_post_graduate      10127 non-null  int64  \n",
      " 21  ed_lvl_uneducated         10127 non-null  int64  \n",
      " 22  ed_lvl_unknown            10127 non-null  int64  \n",
      " 23  marital_divorced          10127 non-null  int64  \n",
      " 24  marital_married           10127 non-null  int64  \n",
      " 25  marital_single            10127 non-null  int64  \n",
      " 26  marital_unknown           10127 non-null  int64  \n",
      " 27  income_120k_plus          10127 non-null  int64  \n",
      " 28  income_40k_60k            10127 non-null  int64  \n",
      " 29  income_60k_80k            10127 non-null  int64  \n",
      " 30  income_80k_120k           10127 non-null  int64  \n",
      " 31  income_less_than_40k      10127 non-null  int64  \n",
      " 32  income_unknown            10127 non-null  int64  \n",
      " 33  card_blue                 10127 non-null  int64  \n",
      " 34  card_gold                 10127 non-null  int64  \n",
      " 35  card_platinum             10127 non-null  int64  \n",
      " 36  card_silver               10127 non-null  int64  \n",
      " 37  attrited_customer         10127 non-null  int64  \n",
      "dtypes: float64(5), int64(33)\n",
      "memory usage: 3.0 MB\n"
     ]
    }
   ],
   "source": [
    "# Read clean data from CSV (To test exported data and as a reference code)\n",
    "df_dummies_csv = pd.read_csv('./data/bank_churners_clean_dummies.csv', index_col=0)\n",
    "df_dummies_csv.info()"
   ]
  },
  {
   "cell_type": "markdown",
   "id": "immediate-rider",
   "metadata": {},
   "source": [
    "# Prepare Train / Test Datasets"
   ]
  },
  {
   "cell_type": "code",
   "execution_count": 20,
   "id": "victorian-sperm",
   "metadata": {
    "execution": {
     "iopub.execute_input": "2021-03-16T23:59:32.947838Z",
     "iopub.status.busy": "2021-03-16T23:59:32.947638Z",
     "iopub.status.idle": "2021-03-16T23:59:32.951308Z",
     "shell.execute_reply": "2021-03-16T23:59:32.950524Z",
     "shell.execute_reply.started": "2021-03-16T23:59:32.947818Z"
    },
    "tags": []
   },
   "outputs": [
    {
     "data": {
      "text/plain": [
       "(10127, 38)"
      ]
     },
     "execution_count": 20,
     "metadata": {},
     "output_type": "execute_result"
    }
   ],
   "source": [
    "# Check dimensions of source data\n",
    "df_dummies_csv.shape"
   ]
  },
  {
   "cell_type": "code",
   "execution_count": 21,
   "id": "assumed-median",
   "metadata": {
    "execution": {
     "iopub.execute_input": "2021-03-16T23:59:32.952708Z",
     "iopub.status.busy": "2021-03-16T23:59:32.952334Z",
     "iopub.status.idle": "2021-03-16T23:59:32.960525Z",
     "shell.execute_reply": "2021-03-16T23:59:32.959791Z",
     "shell.execute_reply.started": "2021-03-16T23:59:32.952684Z"
    },
    "tags": []
   },
   "outputs": [
    {
     "name": "stdout",
     "output_type": "stream",
     "text": [
      "X and y shapes:\n",
      "(10127, 37) (10127,) \n",
      "\n",
      "Target Ratio:\n",
      "0    0.84\n",
      "1    0.16\n",
      "Name: attrited_customer, dtype: float64 \n",
      "\n"
     ]
    }
   ],
   "source": [
    "# Split data in to Features X and Target y\n",
    "X = df_dummies_csv.iloc[:,:-1]\n",
    "y = df_dummies_csv.iloc[:,-1]\n",
    "print('X and y shapes:')\n",
    "print(X.shape,y.shape,'\\n')\n",
    "print('Target Ratio:')\n",
    "print(y.value_counts(normalize=True, dropna=False),'\\n')"
   ]
  },
  {
   "cell_type": "code",
   "execution_count": 22,
   "id": "favorite-sacramento",
   "metadata": {
    "execution": {
     "iopub.execute_input": "2021-03-16T23:59:32.961747Z",
     "iopub.status.busy": "2021-03-16T23:59:32.961462Z",
     "iopub.status.idle": "2021-03-16T23:59:32.971760Z",
     "shell.execute_reply": "2021-03-16T23:59:32.971159Z",
     "shell.execute_reply.started": "2021-03-16T23:59:32.961723Z"
    },
    "tags": []
   },
   "outputs": [
    {
     "data": {
      "text/plain": [
       "((8101, 37), (2026, 37), (8101,), (2026,))"
      ]
     },
     "execution_count": 22,
     "metadata": {},
     "output_type": "execute_result"
    }
   ],
   "source": [
    "# Split data into Train and Test\n",
    "# We stratify to make sure target representation is kept in the new datasets\n",
    "X_train, X_test, y_train, y_test = train_test_split(X, y,\n",
    "                                                    test_size=.2,\n",
    "                                                    stratify=y,\n",
    "                                                    random_state=2021)\n",
    "X_train.shape, X_test.shape, y_train.shape, y_test.shape"
   ]
  },
  {
   "cell_type": "code",
   "execution_count": 23,
   "id": "accredited-antibody",
   "metadata": {
    "execution": {
     "iopub.execute_input": "2021-03-16T23:59:32.973021Z",
     "iopub.status.busy": "2021-03-16T23:59:32.972802Z",
     "iopub.status.idle": "2021-03-16T23:59:33.092577Z",
     "shell.execute_reply": "2021-03-16T23:59:33.091791Z",
     "shell.execute_reply.started": "2021-03-16T23:59:32.973000Z"
    },
    "tags": []
   },
   "outputs": [],
   "source": [
    "# Merge split Features and Target to export into single CSV for each of Train and Test\n",
    "X_train.merge(y_train, left_index=True, right_index=True, validate='1:1')\\\n",
    "                                .to_csv('./data/bank_churners_train_dummies.csv', index_label='index')\n",
    "X_test.merge(y_test, left_index=True, right_index=True, validate='1:1')\\\n",
    "                                .to_csv('./data/bank_churners_test_dummies.csv', index_label='index')\n",
    "\n",
    "# NOTE: I keep the original index order in the split Train / Test CSV\n",
    "#       for tracking back to source purposes"
   ]
  },
  {
   "cell_type": "markdown",
   "id": "photographic-prior",
   "metadata": {},
   "source": [
    "> **NOTE:**\n",
    "> * The **Test dataset** is to be kept away until the last step for evaluating the Final Model.\n",
    "> * Both **Training and Validation** should be done on the **Train dataset**"
   ]
  },
  {
   "cell_type": "code",
   "execution_count": 24,
   "id": "bright-reduction",
   "metadata": {
    "execution": {
     "iopub.execute_input": "2021-03-16T23:59:33.093960Z",
     "iopub.status.busy": "2021-03-16T23:59:33.093738Z",
     "iopub.status.idle": "2021-03-16T23:59:33.126709Z",
     "shell.execute_reply": "2021-03-16T23:59:33.126090Z",
     "shell.execute_reply.started": "2021-03-16T23:59:33.093937Z"
    },
    "tags": []
   },
   "outputs": [
    {
     "name": "stdout",
     "output_type": "stream",
     "text": [
      "X and y shapes:\n",
      "(8101, 37) (8101,) \n",
      "\n",
      "Target Ratio:\n",
      "0    0.84\n",
      "1    0.16\n",
      "Name: attrited_customer, dtype: float64 \n",
      "\n",
      "<class 'pandas.core.frame.DataFrame'>\n",
      "Int64Index: 8101 entries, 3066 to 1919\n",
      "Data columns (total 38 columns):\n",
      " #   Column                    Non-Null Count  Dtype  \n",
      "---  ------                    --------------  -----  \n",
      " 0   customer_age              8101 non-null   int64  \n",
      " 1   dependent_count           8101 non-null   int64  \n",
      " 2   months_on_book            8101 non-null   int64  \n",
      " 3   total_relationship_count  8101 non-null   int64  \n",
      " 4   months_inactive_12_mon    8101 non-null   int64  \n",
      " 5   contacts_count_12_mon     8101 non-null   int64  \n",
      " 6   credit_limit              8101 non-null   float64\n",
      " 7   total_revolving_bal       8101 non-null   int64  \n",
      " 8   avg_open_to_buy           8101 non-null   float64\n",
      " 9   total_amt_chng_q4_q1      8101 non-null   float64\n",
      " 10  total_trans_amt           8101 non-null   int64  \n",
      " 11  total_trans_ct            8101 non-null   int64  \n",
      " 12  total_ct_chng_q4_q1       8101 non-null   float64\n",
      " 13  avg_utilization_ratio     8101 non-null   float64\n",
      " 14  gender_f                  8101 non-null   int64  \n",
      " 15  gender_m                  8101 non-null   int64  \n",
      " 16  ed_lvl_college            8101 non-null   int64  \n",
      " 17  ed_lvl_doctorate          8101 non-null   int64  \n",
      " 18  ed_lvl_graduate           8101 non-null   int64  \n",
      " 19  ed_lvl_high_school        8101 non-null   int64  \n",
      " 20  ed_lvl_post_graduate      8101 non-null   int64  \n",
      " 21  ed_lvl_uneducated         8101 non-null   int64  \n",
      " 22  ed_lvl_unknown            8101 non-null   int64  \n",
      " 23  marital_divorced          8101 non-null   int64  \n",
      " 24  marital_married           8101 non-null   int64  \n",
      " 25  marital_single            8101 non-null   int64  \n",
      " 26  marital_unknown           8101 non-null   int64  \n",
      " 27  income_120k_plus          8101 non-null   int64  \n",
      " 28  income_40k_60k            8101 non-null   int64  \n",
      " 29  income_60k_80k            8101 non-null   int64  \n",
      " 30  income_80k_120k           8101 non-null   int64  \n",
      " 31  income_less_than_40k      8101 non-null   int64  \n",
      " 32  income_unknown            8101 non-null   int64  \n",
      " 33  card_blue                 8101 non-null   int64  \n",
      " 34  card_gold                 8101 non-null   int64  \n",
      " 35  card_platinum             8101 non-null   int64  \n",
      " 36  card_silver               8101 non-null   int64  \n",
      " 37  attrited_customer         8101 non-null   int64  \n",
      "dtypes: float64(5), int64(33)\n",
      "memory usage: 2.4 MB\n"
     ]
    }
   ],
   "source": [
    "# Read [Train] data from CSV (To test exported data and as a reference code)\n",
    "df_train = pd.read_csv('./data/bank_churners_train_dummies.csv', index_col=0)\n",
    "X_train = df_train.iloc[:,:-1]\n",
    "y_train = df_train.iloc[:,-1]\n",
    "print('X and y shapes:')\n",
    "print(X_train.shape,y_train.shape,'\\n')\n",
    "print('Target Ratio:')\n",
    "print(y_train.value_counts(normalize=True, dropna=False),'\\n')\n",
    "df_train.info()"
   ]
  },
  {
   "cell_type": "code",
   "execution_count": 25,
   "id": "divided-edinburgh",
   "metadata": {
    "execution": {
     "iopub.execute_input": "2021-03-16T23:59:33.131512Z",
     "iopub.status.busy": "2021-03-16T23:59:33.131256Z",
     "iopub.status.idle": "2021-03-16T23:59:33.152726Z",
     "shell.execute_reply": "2021-03-16T23:59:33.151760Z",
     "shell.execute_reply.started": "2021-03-16T23:59:33.131487Z"
    },
    "tags": []
   },
   "outputs": [
    {
     "name": "stdout",
     "output_type": "stream",
     "text": [
      "X and y shapes:\n",
      "(2026, 37) (2026,) \n",
      "\n",
      "Target Ratio:\n",
      "0    0.84\n",
      "1    0.16\n",
      "Name: attrited_customer, dtype: float64 \n",
      "\n",
      "<class 'pandas.core.frame.DataFrame'>\n",
      "Int64Index: 2026 entries, 9987 to 4830\n",
      "Data columns (total 38 columns):\n",
      " #   Column                    Non-Null Count  Dtype  \n",
      "---  ------                    --------------  -----  \n",
      " 0   customer_age              2026 non-null   int64  \n",
      " 1   dependent_count           2026 non-null   int64  \n",
      " 2   months_on_book            2026 non-null   int64  \n",
      " 3   total_relationship_count  2026 non-null   int64  \n",
      " 4   months_inactive_12_mon    2026 non-null   int64  \n",
      " 5   contacts_count_12_mon     2026 non-null   int64  \n",
      " 6   credit_limit              2026 non-null   float64\n",
      " 7   total_revolving_bal       2026 non-null   int64  \n",
      " 8   avg_open_to_buy           2026 non-null   float64\n",
      " 9   total_amt_chng_q4_q1      2026 non-null   float64\n",
      " 10  total_trans_amt           2026 non-null   int64  \n",
      " 11  total_trans_ct            2026 non-null   int64  \n",
      " 12  total_ct_chng_q4_q1       2026 non-null   float64\n",
      " 13  avg_utilization_ratio     2026 non-null   float64\n",
      " 14  gender_f                  2026 non-null   int64  \n",
      " 15  gender_m                  2026 non-null   int64  \n",
      " 16  ed_lvl_college            2026 non-null   int64  \n",
      " 17  ed_lvl_doctorate          2026 non-null   int64  \n",
      " 18  ed_lvl_graduate           2026 non-null   int64  \n",
      " 19  ed_lvl_high_school        2026 non-null   int64  \n",
      " 20  ed_lvl_post_graduate      2026 non-null   int64  \n",
      " 21  ed_lvl_uneducated         2026 non-null   int64  \n",
      " 22  ed_lvl_unknown            2026 non-null   int64  \n",
      " 23  marital_divorced          2026 non-null   int64  \n",
      " 24  marital_married           2026 non-null   int64  \n",
      " 25  marital_single            2026 non-null   int64  \n",
      " 26  marital_unknown           2026 non-null   int64  \n",
      " 27  income_120k_plus          2026 non-null   int64  \n",
      " 28  income_40k_60k            2026 non-null   int64  \n",
      " 29  income_60k_80k            2026 non-null   int64  \n",
      " 30  income_80k_120k           2026 non-null   int64  \n",
      " 31  income_less_than_40k      2026 non-null   int64  \n",
      " 32  income_unknown            2026 non-null   int64  \n",
      " 33  card_blue                 2026 non-null   int64  \n",
      " 34  card_gold                 2026 non-null   int64  \n",
      " 35  card_platinum             2026 non-null   int64  \n",
      " 36  card_silver               2026 non-null   int64  \n",
      " 37  attrited_customer         2026 non-null   int64  \n",
      "dtypes: float64(5), int64(33)\n",
      "memory usage: 617.3 KB\n"
     ]
    }
   ],
   "source": [
    "# Read [Test] data from CSV (To test exported data and as a reference code)\n",
    "df_test = pd.read_csv('./data/bank_churners_test_dummies.csv', index_col=0)\n",
    "X_test = df_test.iloc[:,:-1]\n",
    "y_test = df_test.iloc[:,-1]\n",
    "print('X and y shapes:')\n",
    "print(X_test.shape,y_test.shape,'\\n')\n",
    "print('Target Ratio:')\n",
    "print(y_test.value_counts(normalize=True, dropna=False),'\\n')\n",
    "df_test.info()"
   ]
  },
  {
   "cell_type": "markdown",
   "id": "working-persian",
   "metadata": {},
   "source": [
    "# END"
   ]
  }
 ],
 "metadata": {
  "kernelspec": {
   "display_name": "Python 3",
   "language": "python",
   "name": "python3"
  },
  "language_info": {
   "codemirror_mode": {
    "name": "ipython",
    "version": 3
   },
   "file_extension": ".py",
   "mimetype": "text/x-python",
   "name": "python",
   "nbconvert_exporter": "python",
   "pygments_lexer": "ipython3",
   "version": "3.9.2"
  },
  "widgets": {
   "application/vnd.jupyter.widget-state+json": {
    "state": {},
    "version_major": 2,
    "version_minor": 0
   }
  }
 },
 "nbformat": 4,
 "nbformat_minor": 5
}
